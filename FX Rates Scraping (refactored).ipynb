{
 "cells": [
  {
   "cell_type": "markdown",
   "metadata": {},
   "source": [
    "# Web Scraping FX Rates\n",
    "\n",
    "I am refactoring my code using this notebook to:\n",
    "\n",
    "1. show improvements with how I write code;\n",
    "\n",
    "2. update BPI website; and\n",
    "\n",
    "3. hopefully use some functions to serve as Airflow Python Operator."
   ]
  },
  {
   "cell_type": "code",
   "execution_count": 1,
   "metadata": {},
   "outputs": [],
   "source": [
    "import os\n",
    "import requests\n",
    "import re\n",
    "from bs4 import BeautifulSoup as bs\n",
    "import pandas as pd"
   ]
  },
  {
   "cell_type": "markdown",
   "metadata": {},
   "source": [
    "## Helper Functions"
   ]
  },
  {
   "cell_type": "code",
   "execution_count": 2,
   "metadata": {},
   "outputs": [],
   "source": [
    "class FX_WEBPAGE():\n",
    "    \n",
    "    def __init__(self, bank):\n",
    "        websites = {'BPI':  \"https://www.bpi.com.ph/forex/rates\",\n",
    "                    'Security Bank':    \"https://www.securitybank.com/\"\n",
    "                                        \"personal/investments/market-information/\"\n",
    "                                        \"foreign-exchange-rate-forex/\"}\n",
    "        try:\n",
    "                self.webpage = websites[bank]\n",
    "        except:\n",
    "            raise Exception('This is currently not supported.')\n",
    "        \n",
    "    def parse(self):\n",
    "        return bs(requests.get(self.webpage).text, 'html.parser')\n",
    "    "
   ]
  },
  {
   "cell_type": "markdown",
   "metadata": {},
   "source": [
    "Scrape some websites to return a pandas DataFrame object"
   ]
  },
  {
   "cell_type": "code",
   "execution_count": 3,
   "metadata": {},
   "outputs": [],
   "source": [
    "def bpi_dataframe(webpage):\n",
    "\n",
    "    fx_table_rows = bs(str(webpage.find_all('tbody')), 'html.parser').find_all('td')\n",
    "\n",
    "    values = [td.get_text() for td in fx_table_rows]\n",
    "    \n",
    "    return pd.DataFrame({'ccy': [re.search('[A-Z][A-Z][A-Z]', text)[0] for text in values[0::3]],\n",
    "                         'buy': values[1::3],\n",
    "                         'sell': values[2::3]})"
   ]
  },
  {
   "cell_type": "code",
   "execution_count": 4,
   "metadata": {},
   "outputs": [],
   "source": [
    "def sb_dataframe(webpage):\n",
    "    container = webpage.find_all(class_='et_pb_text_inner')[1]\n",
    "    \n",
    "    fx_table_rows = bs(str(container)).find_all('td')[3::]\n",
    "    \n",
    "    values = [td.get_text() for td in fx_table_rows[5::]]\n",
    "    \n",
    "    return pd.DataFrame({'ccy': [re.search('[A-Z][A-Z][A-Z]', text)[0] for text in values[0::5]],\n",
    "                         'buy': values[2::5],\n",
    "                         'sell': values[4::5]})"
   ]
  },
  {
   "cell_type": "markdown",
   "metadata": {},
   "source": [
    "## Download from Website"
   ]
  },
  {
   "cell_type": "code",
   "execution_count": 5,
   "metadata": {},
   "outputs": [],
   "source": [
    "BPI_WEBPAGE = FX_WEBPAGE('BPI').parse()\n",
    "SB_WEBPAGE = FX_WEBPAGE('Security Bank').parse()"
   ]
  },
  {
   "cell_type": "code",
   "execution_count": 6,
   "metadata": {},
   "outputs": [],
   "source": [
    "BPI = bpi_dataframe(BPI_WEBPAGE)\n",
    "SecurityBank = sb_dataframe(SB_WEBPAGE)"
   ]
  },
  {
   "cell_type": "code",
   "execution_count": 7,
   "metadata": {},
   "outputs": [
    {
     "data": {
      "text/html": [
       "<div>\n",
       "<style scoped>\n",
       "    .dataframe tbody tr th:only-of-type {\n",
       "        vertical-align: middle;\n",
       "    }\n",
       "\n",
       "    .dataframe tbody tr th {\n",
       "        vertical-align: top;\n",
       "    }\n",
       "\n",
       "    .dataframe thead th {\n",
       "        text-align: right;\n",
       "    }\n",
       "</style>\n",
       "<table border=\"1\" class=\"dataframe\">\n",
       "  <thead>\n",
       "    <tr style=\"text-align: right;\">\n",
       "      <th></th>\n",
       "      <th>ccy</th>\n",
       "      <th>buy</th>\n",
       "      <th>sell</th>\n",
       "    </tr>\n",
       "  </thead>\n",
       "  <tbody>\n",
       "    <tr>\n",
       "      <th>0</th>\n",
       "      <td>USD</td>\n",
       "      <td>47.85</td>\n",
       "      <td>48.35</td>\n",
       "    </tr>\n",
       "    <tr>\n",
       "      <th>1</th>\n",
       "      <td>EUR</td>\n",
       "      <td>56.1340</td>\n",
       "      <td>59.0951</td>\n",
       "    </tr>\n",
       "    <tr>\n",
       "      <th>2</th>\n",
       "      <td>JPY</td>\n",
       "      <td>0.4528</td>\n",
       "      <td>0.4767</td>\n",
       "    </tr>\n",
       "    <tr>\n",
       "      <th>3</th>\n",
       "      <td>HKD</td>\n",
       "      <td>6.0737</td>\n",
       "      <td>6.3943</td>\n",
       "    </tr>\n",
       "    <tr>\n",
       "      <th>4</th>\n",
       "      <td>AUD</td>\n",
       "      <td>34.7322</td>\n",
       "      <td>36.5634</td>\n",
       "    </tr>\n",
       "    <tr>\n",
       "      <th>5</th>\n",
       "      <td>SGD</td>\n",
       "      <td>35.1766</td>\n",
       "      <td>37.0339</td>\n",
       "    </tr>\n",
       "    <tr>\n",
       "      <th>6</th>\n",
       "      <td>CAD</td>\n",
       "      <td>36.2138</td>\n",
       "      <td>38.1240</td>\n",
       "    </tr>\n",
       "    <tr>\n",
       "      <th>7</th>\n",
       "      <td>GBP</td>\n",
       "      <td>62.9453</td>\n",
       "      <td>66.2640</td>\n",
       "    </tr>\n",
       "    <tr>\n",
       "      <th>8</th>\n",
       "      <td>CHF</td>\n",
       "      <td>51.9861</td>\n",
       "      <td>54.7267</td>\n",
       "    </tr>\n",
       "    <tr>\n",
       "      <th>9</th>\n",
       "      <td>CNY</td>\n",
       "      <td>7.1558</td>\n",
       "      <td>7.5336</td>\n",
       "    </tr>\n",
       "  </tbody>\n",
       "</table>\n",
       "</div>"
      ],
      "text/plain": [
       "   ccy      buy     sell\n",
       "0  USD    47.85    48.35\n",
       "1  EUR  56.1340  59.0951\n",
       "2  JPY   0.4528   0.4767\n",
       "3  HKD   6.0737   6.3943\n",
       "4  AUD  34.7322  36.5634\n",
       "5  SGD  35.1766  37.0339\n",
       "6  CAD  36.2138  38.1240\n",
       "7  GBP  62.9453  66.2640\n",
       "8  CHF  51.9861  54.7267\n",
       "9  CNY   7.1558   7.5336"
      ]
     },
     "execution_count": 7,
     "metadata": {},
     "output_type": "execute_result"
    }
   ],
   "source": [
    "BPI"
   ]
  },
  {
   "cell_type": "code",
   "execution_count": 8,
   "metadata": {},
   "outputs": [
    {
     "data": {
      "text/html": [
       "<div>\n",
       "<style scoped>\n",
       "    .dataframe tbody tr th:only-of-type {\n",
       "        vertical-align: middle;\n",
       "    }\n",
       "\n",
       "    .dataframe tbody tr th {\n",
       "        vertical-align: top;\n",
       "    }\n",
       "\n",
       "    .dataframe thead th {\n",
       "        text-align: right;\n",
       "    }\n",
       "</style>\n",
       "<table border=\"1\" class=\"dataframe\">\n",
       "  <thead>\n",
       "    <tr style=\"text-align: right;\">\n",
       "      <th></th>\n",
       "      <th>ccy</th>\n",
       "      <th>buy</th>\n",
       "      <th>sell</th>\n",
       "    </tr>\n",
       "  </thead>\n",
       "  <tbody>\n",
       "    <tr>\n",
       "      <th>0</th>\n",
       "      <td>USD</td>\n",
       "      <td>47.90</td>\n",
       "      <td>48.40</td>\n",
       "    </tr>\n",
       "    <tr>\n",
       "      <th>1</th>\n",
       "      <td>EUR</td>\n",
       "      <td>54.7295</td>\n",
       "      <td>59.1054</td>\n",
       "    </tr>\n",
       "    <tr>\n",
       "      <th>2</th>\n",
       "      <td>JPY</td>\n",
       "      <td>0.4342</td>\n",
       "      <td>0.4763</td>\n",
       "    </tr>\n",
       "    <tr>\n",
       "      <th>3</th>\n",
       "      <td>GBP</td>\n",
       "      <td>61.0070</td>\n",
       "      <td>66.2244</td>\n",
       "    </tr>\n",
       "    <tr>\n",
       "      <th>4</th>\n",
       "      <td>AUD</td>\n",
       "      <td>33.2941</td>\n",
       "      <td>36.5179</td>\n",
       "    </tr>\n",
       "    <tr>\n",
       "      <th>5</th>\n",
       "      <td>CHF</td>\n",
       "      <td>50.1777</td>\n",
       "      <td>54.7511</td>\n",
       "    </tr>\n",
       "    <tr>\n",
       "      <th>6</th>\n",
       "      <td>CAD</td>\n",
       "      <td>35.1010</td>\n",
       "      <td>38.1029</td>\n",
       "    </tr>\n",
       "    <tr>\n",
       "      <th>7</th>\n",
       "      <td>HKD</td>\n",
       "      <td>5.8355</td>\n",
       "      <td>6.4318</td>\n",
       "    </tr>\n",
       "    <tr>\n",
       "      <th>8</th>\n",
       "      <td>SGD</td>\n",
       "      <td>33.7919</td>\n",
       "      <td>37.6063</td>\n",
       "    </tr>\n",
       "    <tr>\n",
       "      <th>9</th>\n",
       "      <td>KRW</td>\n",
       "      <td>0.040521</td>\n",
       "      <td>0.044913</td>\n",
       "    </tr>\n",
       "    <tr>\n",
       "      <th>10</th>\n",
       "      <td>CNY</td>\n",
       "      <td>6.987591</td>\n",
       "      <td>7.583091</td>\n",
       "    </tr>\n",
       "  </tbody>\n",
       "</table>\n",
       "</div>"
      ],
      "text/plain": [
       "    ccy       buy      sell\n",
       "0   USD     47.90     48.40\n",
       "1   EUR   54.7295   59.1054\n",
       "2   JPY    0.4342    0.4763\n",
       "3   GBP   61.0070   66.2244\n",
       "4   AUD   33.2941   36.5179\n",
       "5   CHF   50.1777   54.7511\n",
       "6   CAD   35.1010   38.1029\n",
       "7   HKD    5.8355    6.4318\n",
       "8   SGD   33.7919   37.6063\n",
       "9   KRW  0.040521  0.044913\n",
       "10  CNY  6.987591  7.583091"
      ]
     },
     "execution_count": 8,
     "metadata": {},
     "output_type": "execute_result"
    }
   ],
   "source": [
    "SecurityBank"
   ]
  },
  {
   "cell_type": "markdown",
   "metadata": {},
   "source": [
    "# Remarks\n",
    "\n",
    "When I first wrote the code in May 2020, the only problem I was trying to solve was to decide which bank would offer cheaper AUD for my Squarespace subscription. I was writing in imperative and it was my first time to use BeautifulSoup as I hadn't done any web scraping projects before.\n",
    "\n",
    "Fast forward today, I have read literature (and still reading) about how to write code elegantly. That is, for my code to be read like a *well-written prose*. I have familiarized myself with programming paradigms. I believe I have been influenced by things like PEP8, PEP20, and Clean Code, among others.\n",
    "\n",
    "In this project in particular, I was able to show:\n",
    "\n",
    "- **Separation of concerns** — my previous code was one-function-fits-all. Everytime one would call `get_sb_data()`, it will send a GET request to the website and create a pandas table. Here, a GET request (*the what*) only has to be sent when an `FX_WEBPAGE` class is initiated. This will be passed as an argument to its respective function (*the how*) to be converted to a pandas DataFrame.\n",
    "\n",
    "- **Better use of iterables** — `for i in range(n)` screams beginner. I have learned better. In this project in particular, list comprehensions and slicers are enough.\n",
    "\n",
    "- **Regex** — getting three consecutive capital letters is a better way to identify a currency. It also saves me a lot of data cleaning tasks particularly encoding differences (\"\\\\xa0\"), unnecessary spaces (e.g. \"USD &nbsp; &nbsp; &nbsp; &nbsp; &nbsp; US Dollar\") and newline strings (\"\\\\n\").\n",
    "\n",
    "Noticeably, I didn't write functions involving dates, or function to save the scraped data. That's for my next project involving a particular stack. ;)\n",
    "\n",
    "\\#"
   ]
  }
 ],
 "metadata": {
  "kernelspec": {
   "display_name": "Python 3",
   "language": "python",
   "name": "python3"
  },
  "language_info": {
   "codemirror_mode": {
    "name": "ipython",
    "version": 3
   },
   "file_extension": ".py",
   "mimetype": "text/x-python",
   "name": "python",
   "nbconvert_exporter": "python",
   "pygments_lexer": "ipython3",
   "version": "3.8.1"
  }
 },
 "nbformat": 4,
 "nbformat_minor": 4
}
